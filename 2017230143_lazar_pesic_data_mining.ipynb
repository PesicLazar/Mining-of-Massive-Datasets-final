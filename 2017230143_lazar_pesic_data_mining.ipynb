{
  "nbformat": 4,
  "nbformat_minor": 0,
  "metadata": {
    "colab": {
      "provenance": [],
      "authorship_tag": "ABX9TyPir7ZCGEPmA3kmYlN5y/wy",
      "include_colab_link": true
    },
    "kernelspec": {
      "name": "python3",
      "display_name": "Python 3"
    },
    "language_info": {
      "name": "python"
    }
  },
  "cells": [
    {
      "cell_type": "markdown",
      "metadata": {
        "id": "view-in-github",
        "colab_type": "text"
      },
      "source": [
        "<a href=\"https://colab.research.google.com/github/PesicLazar/Mining-of-Massive-Datasets-final/blob/main/2017230143_lazar_pesic_data_mining.ipynb\" target=\"_parent\"><img src=\"https://colab.research.google.com/assets/colab-badge.svg\" alt=\"Open In Colab\"/></a>"
      ]
    },
    {
      "cell_type": "code",
      "execution_count": null,
      "metadata": {
        "colab": {
          "base_uri": "https://localhost:8080/"
        },
        "id": "W5cJ9Ub8nann",
        "outputId": "7998cf77-e55a-408d-e3dc-133643ac9f95"
      },
      "outputs": [
        {
          "output_type": "stream",
          "name": "stdout",
          "text": [
            "Looking in indexes: https://pypi.org/simple, https://us-python.pkg.dev/colab-wheels/public/simple/\n",
            "Collecting pyspark\n",
            "  Downloading pyspark-3.4.0.tar.gz (310.8 MB)\n",
            "\u001b[2K     \u001b[90m━━━━━━━━━━━━━━━━━━━━━━━━━━━━━━━━━━━━━━━\u001b[0m \u001b[32m310.8/310.8 MB\u001b[0m \u001b[31m4.8 MB/s\u001b[0m eta \u001b[36m0:00:00\u001b[0m\n",
            "\u001b[?25h  Preparing metadata (setup.py) ... \u001b[?25l\u001b[?25hdone\n",
            "Requirement already satisfied: py4j==0.10.9.7 in /usr/local/lib/python3.10/dist-packages (from pyspark) (0.10.9.7)\n",
            "Building wheels for collected packages: pyspark\n",
            "  Building wheel for pyspark (setup.py) ... \u001b[?25l\u001b[?25hdone\n",
            "  Created wheel for pyspark: filename=pyspark-3.4.0-py2.py3-none-any.whl size=311317130 sha256=69a55212c47e37305973920856b2384e6135689a730f493ff30fdf5094ba4640\n",
            "  Stored in directory: /root/.cache/pip/wheels/7b/1b/4b/3363a1d04368e7ff0d408e57ff57966fcdf00583774e761327\n",
            "Successfully built pyspark\n",
            "Installing collected packages: pyspark\n",
            "Successfully installed pyspark-3.4.0\n"
          ]
        }
      ],
      "source": [
        "!pip install pyspark"
      ]
    },
    {
      "cell_type": "code",
      "source": [
        "from google.colab import drive\n",
        "drive.mount('/content/gdrive')"
      ],
      "metadata": {
        "colab": {
          "base_uri": "https://localhost:8080/"
        },
        "id": "V1yf1wwarY5d",
        "outputId": "8e5f13ef-06c7-4067-a842-ed634db44a5f"
      },
      "execution_count": null,
      "outputs": [
        {
          "output_type": "stream",
          "name": "stdout",
          "text": [
            "Mounted at /content/gdrive\n"
          ]
        }
      ]
    },
    {
      "cell_type": "code",
      "source": [
        "from pyspark.sql import SparkSession\n",
        "\n",
        "# Create a SparkSession\n",
        "spark = SparkSession.builder.appName(\"DataScienceSalaries\").getOrCreate()"
      ],
      "metadata": {
        "id": "0ydOHpP8rprf"
      },
      "execution_count": null,
      "outputs": []
    },
    {
      "cell_type": "code",
      "source": [
        "df = spark.read.csv('gdrive/My Drive/data/ds_salaries.csv', inferSchema=True, header=True)"
      ],
      "metadata": {
        "id": "osGLYP7SsEiM"
      },
      "execution_count": null,
      "outputs": []
    },
    {
      "cell_type": "code",
      "source": [
        "# EDA - Exploratory Data Analysis\n",
        "df.count()"
      ],
      "metadata": {
        "colab": {
          "base_uri": "https://localhost:8080/"
        },
        "id": "g7gMt58Aspks",
        "outputId": "7858ced8-3ea8-4ca8-c9ec-9732f7954628"
      },
      "execution_count": null,
      "outputs": [
        {
          "output_type": "execute_result",
          "data": {
            "text/plain": [
              "3755"
            ]
          },
          "metadata": {},
          "execution_count": 5
        }
      ]
    },
    {
      "cell_type": "code",
      "source": [
        "df.columns"
      ],
      "metadata": {
        "colab": {
          "base_uri": "https://localhost:8080/"
        },
        "id": "kn2LkC4gtB1q",
        "outputId": "520fea3d-7e7c-4230-e4bc-646d55023846"
      },
      "execution_count": null,
      "outputs": [
        {
          "output_type": "execute_result",
          "data": {
            "text/plain": [
              "['work_year',\n",
              " 'experience_level',\n",
              " 'employment_type',\n",
              " 'job_title',\n",
              " 'salary',\n",
              " 'salary_currency',\n",
              " 'salary_in_usd',\n",
              " 'employee_residence',\n",
              " 'remote_ratio',\n",
              " 'company_location',\n",
              " 'company_size']"
            ]
          },
          "metadata": {},
          "execution_count": 6
        }
      ]
    },
    {
      "cell_type": "code",
      "source": [
        "df.show()"
      ],
      "metadata": {
        "colab": {
          "base_uri": "https://localhost:8080/"
        },
        "id": "MWRzPuYVtE2m",
        "outputId": "0320165a-52f1-4907-cdf1-87b8d20ee29a"
      },
      "execution_count": null,
      "outputs": [
        {
          "output_type": "stream",
          "name": "stdout",
          "text": [
            "+---------+----------------+---------------+--------------------+------+---------------+-------------+------------------+------------+----------------+------------+\n",
            "|work_year|experience_level|employment_type|           job_title|salary|salary_currency|salary_in_usd|employee_residence|remote_ratio|company_location|company_size|\n",
            "+---------+----------------+---------------+--------------------+------+---------------+-------------+------------------+------------+----------------+------------+\n",
            "|     2023|              SE|             FT|Principal Data Sc...| 80000|            EUR|        85847|                ES|         100|              ES|           L|\n",
            "|     2023|              MI|             CT|         ML Engineer| 30000|            USD|        30000|                US|         100|              US|           S|\n",
            "|     2023|              MI|             CT|         ML Engineer| 25500|            USD|        25500|                US|         100|              US|           S|\n",
            "|     2023|              SE|             FT|      Data Scientist|175000|            USD|       175000|                CA|         100|              CA|           M|\n",
            "|     2023|              SE|             FT|      Data Scientist|120000|            USD|       120000|                CA|         100|              CA|           M|\n",
            "|     2023|              SE|             FT|   Applied Scientist|222200|            USD|       222200|                US|           0|              US|           L|\n",
            "|     2023|              SE|             FT|   Applied Scientist|136000|            USD|       136000|                US|           0|              US|           L|\n",
            "|     2023|              SE|             FT|      Data Scientist|219000|            USD|       219000|                CA|           0|              CA|           M|\n",
            "|     2023|              SE|             FT|      Data Scientist|141000|            USD|       141000|                CA|           0|              CA|           M|\n",
            "|     2023|              SE|             FT|      Data Scientist|147100|            USD|       147100|                US|           0|              US|           M|\n",
            "|     2023|              SE|             FT|      Data Scientist| 90700|            USD|        90700|                US|           0|              US|           M|\n",
            "|     2023|              SE|             FT|        Data Analyst|130000|            USD|       130000|                US|         100|              US|           M|\n",
            "|     2023|              SE|             FT|        Data Analyst|100000|            USD|       100000|                US|         100|              US|           M|\n",
            "|     2023|              EN|             FT|   Applied Scientist|213660|            USD|       213660|                US|           0|              US|           L|\n",
            "|     2023|              EN|             FT|   Applied Scientist|130760|            USD|       130760|                US|           0|              US|           L|\n",
            "|     2023|              SE|             FT|        Data Modeler|147100|            USD|       147100|                US|           0|              US|           M|\n",
            "|     2023|              SE|             FT|        Data Modeler| 90700|            USD|        90700|                US|           0|              US|           M|\n",
            "|     2023|              SE|             FT|      Data Scientist|170000|            USD|       170000|                US|           0|              US|           M|\n",
            "|     2023|              SE|             FT|      Data Scientist|150000|            USD|       150000|                US|           0|              US|           M|\n",
            "|     2023|              MI|             FT|        Data Analyst|150000|            USD|       150000|                US|         100|              US|           M|\n",
            "+---------+----------------+---------------+--------------------+------+---------------+-------------+------------------+------------+----------------+------------+\n",
            "only showing top 20 rows\n",
            "\n"
          ]
        }
      ]
    },
    {
      "cell_type": "code",
      "source": [
        "#chek what is string what is int\n",
        "df.printSchema()"
      ],
      "metadata": {
        "colab": {
          "base_uri": "https://localhost:8080/"
        },
        "id": "Z24WIJ7wtHbT",
        "outputId": "eb6df230-a558-440e-fc57-6d6965b9e290"
      },
      "execution_count": null,
      "outputs": [
        {
          "output_type": "stream",
          "name": "stdout",
          "text": [
            "root\n",
            " |-- work_year: integer (nullable = true)\n",
            " |-- experience_level: string (nullable = true)\n",
            " |-- employment_type: string (nullable = true)\n",
            " |-- job_title: string (nullable = true)\n",
            " |-- salary: integer (nullable = true)\n",
            " |-- salary_currency: string (nullable = true)\n",
            " |-- salary_in_usd: integer (nullable = true)\n",
            " |-- employee_residence: string (nullable = true)\n",
            " |-- remote_ratio: integer (nullable = true)\n",
            " |-- company_location: string (nullable = true)\n",
            " |-- company_size: string (nullable = true)\n",
            "\n"
          ]
        }
      ]
    },
    {
      "cell_type": "code",
      "source": [
        "df.describe().show()"
      ],
      "metadata": {
        "colab": {
          "base_uri": "https://localhost:8080/"
        },
        "id": "Nkk-ukh-5CV4",
        "outputId": "5fd55703-1bc1-4c8a-ee6a-9bfba1309445"
      },
      "execution_count": null,
      "outputs": [
        {
          "output_type": "stream",
          "name": "stdout",
          "text": [
            "+-------+------------------+----------------+---------------+--------------------+------------------+---------------+------------------+------------------+------------------+----------------+------------+\n",
            "|summary|         work_year|experience_level|employment_type|           job_title|            salary|salary_currency|     salary_in_usd|employee_residence|      remote_ratio|company_location|company_size|\n",
            "+-------+------------------+----------------+---------------+--------------------+------------------+---------------+------------------+------------------+------------------+----------------+------------+\n",
            "|  count|              3755|            3755|           3755|                3755|              3755|           3755|              3755|              3755|              3755|            3755|        3755|\n",
            "|   mean|2022.3736351531293|            null|           null|                null|190695.57177097205|           null|137570.38988015978|              null|46.271637816245004|            null|        null|\n",
            "| stddev|0.6914482342677833|            null|           null|                null| 671676.5005079063|           null|63055.625278224135|              null|48.589050470587495|            null|        null|\n",
            "|    min|              2020|              EN|             CT|3D Computer Visio...|              6000|            AUD|              5132|                AE|                 0|              AE|           L|\n",
            "|    max|              2023|              SE|             PT|Staff Data Scientist|          30400000|            USD|            450000|                VN|               100|              VN|           S|\n",
            "+-------+------------------+----------------+---------------+--------------------+------------------+---------------+------------------+------------------+------------------+----------------+------------+\n",
            "\n"
          ]
        }
      ]
    },
    {
      "cell_type": "code",
      "source": [
        "df.groupBy('experience_level').count().show()"
      ],
      "metadata": {
        "colab": {
          "base_uri": "https://localhost:8080/"
        },
        "id": "mRpyMEzm5F5E",
        "outputId": "e6de941f-6e00-4806-8fea-244a9a8acf54"
      },
      "execution_count": null,
      "outputs": [
        {
          "output_type": "stream",
          "name": "stdout",
          "text": [
            "+----------------+-----+\n",
            "|experience_level|count|\n",
            "+----------------+-----+\n",
            "|              EX|  114|\n",
            "|              MI|  805|\n",
            "|              EN|  320|\n",
            "|              SE| 2516|\n",
            "+----------------+-----+\n",
            "\n"
          ]
        }
      ]
    },
    {
      "cell_type": "code",
      "source": [
        "#after cheaking diffrent columns i desided to stick with 'company_size', 'experience_level' and see how they effect 'remote_ratio', if there is any Correlation betwen them.\n",
        "df.groupBy('company_size').count().show()"
      ],
      "metadata": {
        "colab": {
          "base_uri": "https://localhost:8080/"
        },
        "id": "Kyr2ic3l5S7V",
        "outputId": "77826a3d-1f69-435c-f182-6a79d2c302b8"
      },
      "execution_count": null,
      "outputs": [
        {
          "output_type": "stream",
          "name": "stdout",
          "text": [
            "+------------+-----+\n",
            "|company_size|count|\n",
            "+------------+-----+\n",
            "|           L|  454|\n",
            "|           M| 3153|\n",
            "|           S|  148|\n",
            "+------------+-----+\n",
            "\n"
          ]
        }
      ]
    },
    {
      "cell_type": "code",
      "source": [
        "df.groupBy('job_title').count().show()"
      ],
      "metadata": {
        "colab": {
          "base_uri": "https://localhost:8080/"
        },
        "id": "k9JiHt955WaY",
        "outputId": "43092375-e47d-4781-ceb9-fcae13ca1ea1"
      },
      "execution_count": null,
      "outputs": [
        {
          "output_type": "stream",
          "name": "stdout",
          "text": [
            "+--------------------+-----+\n",
            "|           job_title|count|\n",
            "+--------------------+-----+\n",
            "|3D Computer Visio...|    4|\n",
            "|  Lead Data Engineer|    6|\n",
            "|        Data Modeler|    2|\n",
            "| Data Scientist Lead|    2|\n",
            "|Principal Data Ar...|    1|\n",
            "|Head of Machine L...|    1|\n",
            "|Machine Learning ...|   10|\n",
            "|Data Analytics Sp...|    2|\n",
            "|     Data Specialist|   14|\n",
            "|Data Operations E...|   10|\n",
            "|Deep Learning Res...|    1|\n",
            "| Data Analytics Lead|    2|\n",
            "|  Power BI Developer|    1|\n",
            "|Machine Learning ...|   26|\n",
            "|   Lead Data Analyst|    5|\n",
            "|        BI Developer|   13|\n",
            "|Staff Data Scientist|    1|\n",
            "|       ETL Developer|   10|\n",
            "|           Data Lead|    2|\n",
            "|Product Data Scie...|    1|\n",
            "+--------------------+-----+\n",
            "only showing top 20 rows\n",
            "\n"
          ]
        }
      ]
    },
    {
      "cell_type": "code",
      "source": [
        "#what job dos most people have in our data set (not importent for what im doing :p)\n",
        "grouped_job_df = df.groupBy('job_title').count()\n",
        "from pyspark.sql.functions import desc\n",
        "sorted_job_df = grouped_job_df.orderBy(desc('count'))\n",
        "sorted_job_df.show()"
      ],
      "metadata": {
        "colab": {
          "base_uri": "https://localhost:8080/"
        },
        "id": "Le7bgp7u5oTI",
        "outputId": "9f9fdd68-0664-405a-bb20-a385ec524e8d"
      },
      "execution_count": null,
      "outputs": [
        {
          "output_type": "stream",
          "name": "stdout",
          "text": [
            "+--------------------+-----+\n",
            "|           job_title|count|\n",
            "+--------------------+-----+\n",
            "|       Data Engineer| 1040|\n",
            "|      Data Scientist|  840|\n",
            "|        Data Analyst|  612|\n",
            "|Machine Learning ...|  289|\n",
            "|  Analytics Engineer|  103|\n",
            "|      Data Architect|  101|\n",
            "|  Research Scientist|   82|\n",
            "|   Applied Scientist|   58|\n",
            "|Data Science Manager|   58|\n",
            "|   Research Engineer|   37|\n",
            "|         ML Engineer|   34|\n",
            "|        Data Manager|   29|\n",
            "|Machine Learning ...|   26|\n",
            "|Data Science Cons...|   24|\n",
            "|Data Analytics Ma...|   22|\n",
            "|Computer Vision E...|   18|\n",
            "|        AI Scientist|   16|\n",
            "|Business Data Ana...|   15|\n",
            "|     BI Data Analyst|   15|\n",
            "|     Data Specialist|   14|\n",
            "+--------------------+-----+\n",
            "only showing top 20 rows\n",
            "\n"
          ]
        }
      ]
    },
    {
      "cell_type": "code",
      "source": [
        "#Filter out rows with missing values (no missing values)\n",
        "df_filtered = df.na.drop()\n",
        "df_filtered.count()"
      ],
      "metadata": {
        "colab": {
          "base_uri": "https://localhost:8080/"
        },
        "id": "lZeoStBeuPu5",
        "outputId": "0d72f5a8-9640-41e3-8f46-f31032f83901"
      },
      "execution_count": null,
      "outputs": [
        {
          "output_type": "execute_result",
          "data": {
            "text/plain": [
              "3755"
            ]
          },
          "metadata": {},
          "execution_count": 14
        }
      ]
    },
    {
      "cell_type": "code",
      "source": [
        "df.groupBy('remote_ratio').count().show()"
      ],
      "metadata": {
        "colab": {
          "base_uri": "https://localhost:8080/"
        },
        "id": "Y5cuT6RYzv67",
        "outputId": "0e3952a6-7607-428d-a4c1-76301affa3bf"
      },
      "execution_count": null,
      "outputs": [
        {
          "output_type": "stream",
          "name": "stdout",
          "text": [
            "+------------+-----+\n",
            "|remote_ratio|count|\n",
            "+------------+-----+\n",
            "|         100| 1643|\n",
            "|          50|  189|\n",
            "|           0| 1923|\n",
            "+------------+-----+\n",
            "\n"
          ]
        }
      ]
    },
    {
      "cell_type": "code",
      "source": [
        "df.groupBy('remote_ratio').mean().show()"
      ],
      "metadata": {
        "colab": {
          "base_uri": "https://localhost:8080/"
        },
        "id": "DT0WQTPY14GN",
        "outputId": "f9d648c5-2953-4556-86c8-8a89bf9e971c"
      },
      "execution_count": null,
      "outputs": [
        {
          "output_type": "stream",
          "name": "stdout",
          "text": [
            "+------------+------------------+------------------+------------------+-----------------+\n",
            "|remote_ratio|    avg(work_year)|       avg(salary)|avg(salary_in_usd)|avg(remote_ratio)|\n",
            "+------------+------------------+------------------+------------------+-----------------+\n",
            "|         100|2022.2404138770542|191047.21059038345|136481.45283018867|            100.0|\n",
            "|          50|2021.5343915343915| 557067.5026455027| 78400.68783068784|             50.0|\n",
            "|           0| 2022.569942797712|154386.65990639626|144316.20228809153|              0.0|\n",
            "+------------+------------------+------------------+------------------+-----------------+\n",
            "\n"
          ]
        }
      ]
    },
    {
      "cell_type": "code",
      "source": [
        "#toke out data were 50% of wrok is done remotely\n",
        "filtered_df = df.filter(df.remote_ratio != 50)\n",
        "filtered_df.show()"
      ],
      "metadata": {
        "colab": {
          "base_uri": "https://localhost:8080/"
        },
        "id": "9Z4TYJ-3fcq3",
        "outputId": "0b137f3e-303d-40d6-ebeb-9414972238ab"
      },
      "execution_count": null,
      "outputs": [
        {
          "output_type": "stream",
          "name": "stdout",
          "text": [
            "+---------+----------------+---------------+--------------------+------+---------------+-------------+------------------+------------+----------------+------------+\n",
            "|work_year|experience_level|employment_type|           job_title|salary|salary_currency|salary_in_usd|employee_residence|remote_ratio|company_location|company_size|\n",
            "+---------+----------------+---------------+--------------------+------+---------------+-------------+------------------+------------+----------------+------------+\n",
            "|     2023|              SE|             FT|Principal Data Sc...| 80000|            EUR|        85847|                ES|         100|              ES|           L|\n",
            "|     2023|              MI|             CT|         ML Engineer| 30000|            USD|        30000|                US|         100|              US|           S|\n",
            "|     2023|              MI|             CT|         ML Engineer| 25500|            USD|        25500|                US|         100|              US|           S|\n",
            "|     2023|              SE|             FT|      Data Scientist|175000|            USD|       175000|                CA|         100|              CA|           M|\n",
            "|     2023|              SE|             FT|      Data Scientist|120000|            USD|       120000|                CA|         100|              CA|           M|\n",
            "|     2023|              SE|             FT|   Applied Scientist|222200|            USD|       222200|                US|           0|              US|           L|\n",
            "|     2023|              SE|             FT|   Applied Scientist|136000|            USD|       136000|                US|           0|              US|           L|\n",
            "|     2023|              SE|             FT|      Data Scientist|219000|            USD|       219000|                CA|           0|              CA|           M|\n",
            "|     2023|              SE|             FT|      Data Scientist|141000|            USD|       141000|                CA|           0|              CA|           M|\n",
            "|     2023|              SE|             FT|      Data Scientist|147100|            USD|       147100|                US|           0|              US|           M|\n",
            "|     2023|              SE|             FT|      Data Scientist| 90700|            USD|        90700|                US|           0|              US|           M|\n",
            "|     2023|              SE|             FT|        Data Analyst|130000|            USD|       130000|                US|         100|              US|           M|\n",
            "|     2023|              SE|             FT|        Data Analyst|100000|            USD|       100000|                US|         100|              US|           M|\n",
            "|     2023|              EN|             FT|   Applied Scientist|213660|            USD|       213660|                US|           0|              US|           L|\n",
            "|     2023|              EN|             FT|   Applied Scientist|130760|            USD|       130760|                US|           0|              US|           L|\n",
            "|     2023|              SE|             FT|        Data Modeler|147100|            USD|       147100|                US|           0|              US|           M|\n",
            "|     2023|              SE|             FT|        Data Modeler| 90700|            USD|        90700|                US|           0|              US|           M|\n",
            "|     2023|              SE|             FT|      Data Scientist|170000|            USD|       170000|                US|           0|              US|           M|\n",
            "|     2023|              SE|             FT|      Data Scientist|150000|            USD|       150000|                US|           0|              US|           M|\n",
            "|     2023|              MI|             FT|        Data Analyst|150000|            USD|       150000|                US|         100|              US|           M|\n",
            "+---------+----------------+---------------+--------------------+------+---------------+-------------+------------------+------------+----------------+------------+\n",
            "only showing top 20 rows\n",
            "\n"
          ]
        }
      ]
    },
    {
      "cell_type": "code",
      "source": [
        "df = filtered_df"
      ],
      "metadata": {
        "id": "NdAThajTi51m"
      },
      "execution_count": null,
      "outputs": []
    },
    {
      "cell_type": "code",
      "source": [
        "df.groupBy('remote_ratio').count().show()"
      ],
      "metadata": {
        "colab": {
          "base_uri": "https://localhost:8080/"
        },
        "id": "bFNo0Jpki-iQ",
        "outputId": "b9222b37-765b-4699-f331-2cc301be396e"
      },
      "execution_count": null,
      "outputs": [
        {
          "output_type": "stream",
          "name": "stdout",
          "text": [
            "+------------+-----+\n",
            "|remote_ratio|count|\n",
            "+------------+-----+\n",
            "|         100| 1643|\n",
            "|           0| 1923|\n",
            "+------------+-----+\n",
            "\n"
          ]
        }
      ]
    },
    {
      "cell_type": "code",
      "source": [
        "df.groupBy('remote_ratio').mean().show()"
      ],
      "metadata": {
        "colab": {
          "base_uri": "https://localhost:8080/"
        },
        "id": "9rg1KWzVvrW5",
        "outputId": "a9e4ca9c-8b4b-4f9a-e747-bd59758ec8a6"
      },
      "execution_count": null,
      "outputs": [
        {
          "output_type": "stream",
          "name": "stdout",
          "text": [
            "+------------+------------------+------------------+------------------+-----------------+\n",
            "|remote_ratio|    avg(work_year)|       avg(salary)|avg(salary_in_usd)|avg(remote_ratio)|\n",
            "+------------+------------------+------------------+------------------+-----------------+\n",
            "|         100|2022.2404138770542|191047.21059038345|136481.45283018867|            100.0|\n",
            "|           0| 2022.569942797712|154386.65990639626|144316.20228809153|              0.0|\n",
            "+------------+------------------+------------------+------------------+-----------------+\n",
            "\n"
          ]
        }
      ]
    },
    {
      "cell_type": "code",
      "source": [
        "from pyspark.sql.functions import when\n",
        "\n",
        "# Map values 100 and 0 to 1 and 0, respectively, in the \"remote_ratio\" column\n",
        "df = df.withColumn(\"remote_ratio\", when(df[\"remote_ratio\"] == 100, 1)\n",
        "                                  .when(df[\"remote_ratio\"] == 0, 0)\n",
        "                                  .otherwise(df[\"remote_ratio\"]))\n",
        "\n",
        "df.show()"
      ],
      "metadata": {
        "colab": {
          "base_uri": "https://localhost:8080/"
        },
        "id": "yKnFVyuCyvH9",
        "outputId": "46f5d832-4777-4bcd-fd33-d1b38a355679"
      },
      "execution_count": null,
      "outputs": [
        {
          "output_type": "stream",
          "name": "stdout",
          "text": [
            "+---------+----------------+---------------+--------------------+------+---------------+-------------+------------------+------------+----------------+------------+\n",
            "|work_year|experience_level|employment_type|           job_title|salary|salary_currency|salary_in_usd|employee_residence|remote_ratio|company_location|company_size|\n",
            "+---------+----------------+---------------+--------------------+------+---------------+-------------+------------------+------------+----------------+------------+\n",
            "|     2023|              SE|             FT|Principal Data Sc...| 80000|            EUR|        85847|                ES|           1|              ES|           L|\n",
            "|     2023|              MI|             CT|         ML Engineer| 30000|            USD|        30000|                US|           1|              US|           S|\n",
            "|     2023|              MI|             CT|         ML Engineer| 25500|            USD|        25500|                US|           1|              US|           S|\n",
            "|     2023|              SE|             FT|      Data Scientist|175000|            USD|       175000|                CA|           1|              CA|           M|\n",
            "|     2023|              SE|             FT|      Data Scientist|120000|            USD|       120000|                CA|           1|              CA|           M|\n",
            "|     2023|              SE|             FT|   Applied Scientist|222200|            USD|       222200|                US|           0|              US|           L|\n",
            "|     2023|              SE|             FT|   Applied Scientist|136000|            USD|       136000|                US|           0|              US|           L|\n",
            "|     2023|              SE|             FT|      Data Scientist|219000|            USD|       219000|                CA|           0|              CA|           M|\n",
            "|     2023|              SE|             FT|      Data Scientist|141000|            USD|       141000|                CA|           0|              CA|           M|\n",
            "|     2023|              SE|             FT|      Data Scientist|147100|            USD|       147100|                US|           0|              US|           M|\n",
            "|     2023|              SE|             FT|      Data Scientist| 90700|            USD|        90700|                US|           0|              US|           M|\n",
            "|     2023|              SE|             FT|        Data Analyst|130000|            USD|       130000|                US|           1|              US|           M|\n",
            "|     2023|              SE|             FT|        Data Analyst|100000|            USD|       100000|                US|           1|              US|           M|\n",
            "|     2023|              EN|             FT|   Applied Scientist|213660|            USD|       213660|                US|           0|              US|           L|\n",
            "|     2023|              EN|             FT|   Applied Scientist|130760|            USD|       130760|                US|           0|              US|           L|\n",
            "|     2023|              SE|             FT|        Data Modeler|147100|            USD|       147100|                US|           0|              US|           M|\n",
            "|     2023|              SE|             FT|        Data Modeler| 90700|            USD|        90700|                US|           0|              US|           M|\n",
            "|     2023|              SE|             FT|      Data Scientist|170000|            USD|       170000|                US|           0|              US|           M|\n",
            "|     2023|              SE|             FT|      Data Scientist|150000|            USD|       150000|                US|           0|              US|           M|\n",
            "|     2023|              MI|             FT|        Data Analyst|150000|            USD|       150000|                US|           1|              US|           M|\n",
            "+---------+----------------+---------------+--------------------+------+---------------+-------------+------------------+------------+----------------+------------+\n",
            "only showing top 20 rows\n",
            "\n"
          ]
        }
      ]
    },
    {
      "cell_type": "code",
      "source": [
        "from pyspark.ml.feature import StringIndexer"
      ],
      "metadata": {
        "id": "BziasoOo2Fd-"
      },
      "execution_count": null,
      "outputs": []
    },
    {
      "cell_type": "code",
      "source": [
        "# converting one feature -> inputCol 'str', outputCol 'str,\n",
        "company_size_indexer = StringIndexer(inputCol='company_size', outputCol='company_size_Num').fit(df)"
      ],
      "metadata": {
        "id": "HLC_augG3HhX"
      },
      "execution_count": null,
      "outputs": []
    },
    {
      "cell_type": "code",
      "source": [
        "df = company_size_indexer.transform(df)"
      ],
      "metadata": {
        "id": "JmedkfOK3Ux-"
      },
      "execution_count": null,
      "outputs": []
    },
    {
      "cell_type": "code",
      "source": [
        "df.show(5, truncate=False)"
      ],
      "metadata": {
        "colab": {
          "base_uri": "https://localhost:8080/"
        },
        "id": "r2qNN-Gp3VgF",
        "outputId": "4f425796-cc6a-48ca-cd24-899f2c19e3f1"
      },
      "execution_count": null,
      "outputs": [
        {
          "output_type": "stream",
          "name": "stdout",
          "text": [
            "+---------+----------------+---------------+------------------------+------+---------------+-------------+------------------+------------+----------------+------------+----------------+\n",
            "|work_year|experience_level|employment_type|job_title               |salary|salary_currency|salary_in_usd|employee_residence|remote_ratio|company_location|company_size|company_size_Num|\n",
            "+---------+----------------+---------------+------------------------+------+---------------+-------------+------------------+------------+----------------+------------+----------------+\n",
            "|2023     |SE              |FT             |Principal Data Scientist|80000 |EUR            |85847        |ES                |1           |ES              |L           |1.0             |\n",
            "|2023     |MI              |CT             |ML Engineer             |30000 |USD            |30000        |US                |1           |US              |S           |2.0             |\n",
            "|2023     |MI              |CT             |ML Engineer             |25500 |USD            |25500        |US                |1           |US              |S           |2.0             |\n",
            "|2023     |SE              |FT             |Data Scientist          |175000|USD            |175000       |CA                |1           |CA              |M           |0.0             |\n",
            "|2023     |SE              |FT             |Data Scientist          |120000|USD            |120000       |CA                |1           |CA              |M           |0.0             |\n",
            "+---------+----------------+---------------+------------------------+------+---------------+-------------+------------------+------------+----------------+------------+----------------+\n",
            "only showing top 5 rows\n",
            "\n"
          ]
        }
      ]
    },
    {
      "cell_type": "code",
      "source": [
        "df.groupBy('company_size').count().orderBy('count', ascending=False).show()"
      ],
      "metadata": {
        "colab": {
          "base_uri": "https://localhost:8080/"
        },
        "id": "ICFaBn2FFlEy",
        "outputId": "8677bdf7-2014-416a-d32b-561388103b66"
      },
      "execution_count": null,
      "outputs": [
        {
          "output_type": "stream",
          "name": "stdout",
          "text": [
            "+------------+-----+\n",
            "|company_size|count|\n",
            "+------------+-----+\n",
            "|           M| 3106|\n",
            "|           L|  344|\n",
            "|           S|  116|\n",
            "+------------+-----+\n",
            "\n"
          ]
        }
      ]
    },
    {
      "cell_type": "code",
      "source": [
        "df.groupBy('company_size_Num').count().orderBy('count', ascending=False).show()"
      ],
      "metadata": {
        "colab": {
          "base_uri": "https://localhost:8080/"
        },
        "id": "AvnV2yIiFlO9",
        "outputId": "71a0d817-4ccf-439b-f6c9-be1a4c939ea1"
      },
      "execution_count": null,
      "outputs": [
        {
          "output_type": "stream",
          "name": "stdout",
          "text": [
            "+----------------+-----+\n",
            "|company_size_Num|count|\n",
            "+----------------+-----+\n",
            "|             0.0| 3106|\n",
            "|             1.0|  344|\n",
            "|             2.0|  116|\n",
            "+----------------+-----+\n",
            "\n"
          ]
        }
      ]
    },
    {
      "cell_type": "code",
      "source": [
        "#same for exp lvl\n",
        "experience_level_indexer = StringIndexer(inputCol=\"experience_level\", outputCol=\"experience_level_Num\").fit(df)\n"
      ],
      "metadata": {
        "id": "XbZyTth_FlSE"
      },
      "execution_count": null,
      "outputs": []
    },
    {
      "cell_type": "code",
      "source": [
        "df = experience_level_indexer.transform(df)"
      ],
      "metadata": {
        "id": "06aDhmZ1HU7C"
      },
      "execution_count": null,
      "outputs": []
    },
    {
      "cell_type": "code",
      "source": [
        "df.groupBy('experience_level').count().orderBy('count',ascending=False).show()"
      ],
      "metadata": {
        "colab": {
          "base_uri": "https://localhost:8080/"
        },
        "id": "QEuoys-IFlkK",
        "outputId": "16ac10fa-732a-44a1-9fae-bf40a5558ebb"
      },
      "execution_count": null,
      "outputs": [
        {
          "output_type": "stream",
          "name": "stdout",
          "text": [
            "+----------------+-----+\n",
            "|experience_level|count|\n",
            "+----------------+-----+\n",
            "|              SE| 2472|\n",
            "|              MI|  731|\n",
            "|              EN|  255|\n",
            "|              EX|  108|\n",
            "+----------------+-----+\n",
            "\n"
          ]
        }
      ]
    },
    {
      "cell_type": "code",
      "source": [
        "df.groupBy('experience_level_Num').count().orderBy('count',ascending=False).show()"
      ],
      "metadata": {
        "colab": {
          "base_uri": "https://localhost:8080/"
        },
        "id": "mEXZfIl4FlmB",
        "outputId": "95a0ae91-c87c-4b69-fda0-22a4f600f4bd"
      },
      "execution_count": null,
      "outputs": [
        {
          "output_type": "stream",
          "name": "stdout",
          "text": [
            "+--------------------+-----+\n",
            "|experience_level_Num|count|\n",
            "+--------------------+-----+\n",
            "|                 0.0| 2472|\n",
            "|                 1.0|  731|\n",
            "|                 2.0|  255|\n",
            "|                 3.0|  108|\n",
            "+--------------------+-----+\n",
            "\n"
          ]
        }
      ]
    },
    {
      "cell_type": "code",
      "source": [
        "import matplotlib.pyplot as plt\n",
        "\n",
        "data = df.toPandas()\n",
        "data.hist(figsize=(15,10))\n",
        "\n",
        "plt.tight_layout()\n",
        "plt.show()"
      ],
      "metadata": {
        "colab": {
          "base_uri": "https://localhost:8080/",
          "height": 957
        },
        "id": "ZpvEPYO33YCI",
        "outputId": "a85a5f08-e510-46d8-fac3-915de1fc5fbb"
      },
      "execution_count": null,
      "outputs": [
        {
          "output_type": "display_data",
          "data": {
            "text/plain": [
              "<Figure size 1500x1000 with 6 Axes>"
            ],
            "image/png": "[encoded data removed]"
          },
          "metadata": {}
        }
      ]
    },
    {
      "cell_type": "code",
      "source": [
        "#creating vectors\n",
        "from pyspark.ml.feature import OneHotEncoder"
      ],
      "metadata": {
        "id": "TfwnvvqI3pfE"
      },
      "execution_count": null,
      "outputs": []
    },
    {
      "cell_type": "code",
      "source": [
        "company_size_encoder = OneHotEncoder(inputCol=\"company_size_Num\", outputCol=\"company_size_Vector\")"
      ],
      "metadata": {
        "id": "paqz2RTPKG53"
      },
      "execution_count": null,
      "outputs": []
    },
    {
      "cell_type": "code",
      "source": [
        "model = company_size_encoder.fit(df)"
      ],
      "metadata": {
        "id": "4nyamUtWKG8U"
      },
      "execution_count": null,
      "outputs": []
    },
    {
      "cell_type": "code",
      "source": [
        "df = model.transform(df)"
      ],
      "metadata": {
        "id": "z0lYrUOOKG-m"
      },
      "execution_count": null,
      "outputs": []
    },
    {
      "cell_type": "code",
      "source": [
        "df.show(4,False)"
      ],
      "metadata": {
        "colab": {
          "base_uri": "https://localhost:8080/"
        },
        "id": "yQjQa-OLKHAp",
        "outputId": "140eb361-8087-4408-8412-6eac8d0ece64"
      },
      "execution_count": null,
      "outputs": [
        {
          "output_type": "stream",
          "name": "stdout",
          "text": [
            "+---------+----------------+---------------+------------------------+------+---------------+-------------+------------------+------------+----------------+------------+----------------+--------------------+-------------------+\n",
            "|work_year|experience_level|employment_type|job_title               |salary|salary_currency|salary_in_usd|employee_residence|remote_ratio|company_location|company_size|company_size_Num|experience_level_Num|company_size_Vector|\n",
            "+---------+----------------+---------------+------------------------+------+---------------+-------------+------------------+------------+----------------+------------+----------------+--------------------+-------------------+\n",
            "|2023     |SE              |FT             |Principal Data Scientist|80000 |EUR            |85847        |ES                |1           |ES              |L           |1.0             |0.0                 |(2,[1],[1.0])      |\n",
            "|2023     |MI              |CT             |ML Engineer             |30000 |USD            |30000        |US                |1           |US              |S           |2.0             |1.0                 |(2,[],[])          |\n",
            "|2023     |MI              |CT             |ML Engineer             |25500 |USD            |25500        |US                |1           |US              |S           |2.0             |1.0                 |(2,[],[])          |\n",
            "|2023     |SE              |FT             |Data Scientist          |175000|USD            |175000       |CA                |1           |CA              |M           |0.0             |0.0                 |(2,[0],[1.0])      |\n",
            "+---------+----------------+---------------+------------------------+------+---------------+-------------+------------------+------------+----------------+------------+----------------+--------------------+-------------------+\n",
            "only showing top 4 rows\n",
            "\n"
          ]
        }
      ]
    },
    {
      "cell_type": "code",
      "source": [
        "df.groupBy('company_size_Vector').count().orderBy('count', ascending=False).show(3,False)"
      ],
      "metadata": {
        "colab": {
          "base_uri": "https://localhost:8080/"
        },
        "id": "mushW_IMKHCg",
        "outputId": "32eda239-4bc1-41b5-8269-8819fe400d75"
      },
      "execution_count": null,
      "outputs": [
        {
          "output_type": "stream",
          "name": "stdout",
          "text": [
            "+-------------------+-----+\n",
            "|company_size_Vector|count|\n",
            "+-------------------+-----+\n",
            "|(2,[0],[1.0])      |3106 |\n",
            "|(2,[1],[1.0])      |344  |\n",
            "|(2,[],[])          |116  |\n",
            "+-------------------+-----+\n",
            "\n"
          ]
        }
      ]
    },
    {
      "cell_type": "code",
      "source": [
        "#reapiting same for experience_level\n",
        "experience_level_encoder = OneHotEncoder(inputCol=\"experience_level_Num\", outputCol=\"experience_level_Vector\")\n",
        "model = experience_level_encoder.fit(df)\n",
        "df = model.transform(df)\n",
        "df.select(['experience_level','experience_level_Num','experience_level_Vector']).show(4,False)"
      ],
      "metadata": {
        "colab": {
          "base_uri": "https://localhost:8080/"
        },
        "id": "6CSE6lc2KHEi",
        "outputId": "7807e6fc-9be8-4519-e61d-0a9fae9a312d"
      },
      "execution_count": null,
      "outputs": [
        {
          "output_type": "stream",
          "name": "stdout",
          "text": [
            "+----------------+--------------------+-----------------------+\n",
            "|experience_level|experience_level_Num|experience_level_Vector|\n",
            "+----------------+--------------------+-----------------------+\n",
            "|SE              |0.0                 |(3,[0],[1.0])          |\n",
            "|MI              |1.0                 |(3,[1],[1.0])          |\n",
            "|MI              |1.0                 |(3,[1],[1.0])          |\n",
            "|SE              |0.0                 |(3,[0],[1.0])          |\n",
            "+----------------+--------------------+-----------------------+\n",
            "only showing top 4 rows\n",
            "\n"
          ]
        }
      ]
    },
    {
      "cell_type": "code",
      "source": [
        "df.groupBy('experience_level_Vector').count().orderBy('count', ascending=False).show(4,False)"
      ],
      "metadata": {
        "colab": {
          "base_uri": "https://localhost:8080/"
        },
        "id": "9wMGk5YkKHGw",
        "outputId": "f0338a8d-5ed2-4cb2-83d9-1ea7557d403f"
      },
      "execution_count": null,
      "outputs": [
        {
          "output_type": "stream",
          "name": "stdout",
          "text": [
            "+-----------------------+-----+\n",
            "|experience_level_Vector|count|\n",
            "+-----------------------+-----+\n",
            "|(3,[0],[1.0])          |2472 |\n",
            "|(3,[1],[1.0])          |731  |\n",
            "|(3,[2],[1.0])          |255  |\n",
            "|(3,[],[])              |108  |\n",
            "+-----------------------+-----+\n",
            "\n"
          ]
        }
      ]
    },
    {
      "cell_type": "code",
      "source": [
        "# assemble all of the input columns into a single vector that would act as the input feature for the model."
      ],
      "metadata": {
        "id": "u25on0YzLRBK"
      },
      "execution_count": null,
      "outputs": []
    },
    {
      "cell_type": "code",
      "source": [
        "from pyspark.ml.feature import VectorAssembler\n"
      ],
      "metadata": {
        "id": "9YyNZG7lLRDF"
      },
      "execution_count": null,
      "outputs": []
    },
    {
      "cell_type": "code",
      "source": [
        "df_assembler = VectorAssembler(inputCols=['company_size_Vector','experience_level_Vector'],\\\n",
        "\n",
        "                                outputCol=\"features\")"
      ],
      "metadata": {
        "id": "GYPU_kEuL_0z"
      },
      "execution_count": null,
      "outputs": []
    },
    {
      "cell_type": "code",
      "source": [
        "#cheak if we have the column features, which is nothing but a combination of all the input features represented as a single dense vector.\n",
        "df = df_assembler.transform(df)"
      ],
      "metadata": {
        "id": "hAXsPA6hL_2s"
      },
      "execution_count": null,
      "outputs": []
    },
    {
      "cell_type": "code",
      "source": [
        "df.printSchema()\n"
      ],
      "metadata": {
        "colab": {
          "base_uri": "https://localhost:8080/"
        },
        "id": "Fwo-5rPKL_4k",
        "outputId": "7f3572d7-f8ea-408a-f711-5d19932733f7"
      },
      "execution_count": null,
      "outputs": [
        {
          "output_type": "stream",
          "name": "stdout",
          "text": [
            "root\n",
            " |-- work_year: integer (nullable = true)\n",
            " |-- experience_level: string (nullable = true)\n",
            " |-- employment_type: string (nullable = true)\n",
            " |-- job_title: string (nullable = true)\n",
            " |-- salary: integer (nullable = true)\n",
            " |-- salary_currency: string (nullable = true)\n",
            " |-- salary_in_usd: integer (nullable = true)\n",
            " |-- employee_residence: string (nullable = true)\n",
            " |-- remote_ratio: integer (nullable = true)\n",
            " |-- company_location: string (nullable = true)\n",
            " |-- company_size: string (nullable = true)\n",
            " |-- company_size_Num: double (nullable = false)\n",
            " |-- experience_level_Num: double (nullable = false)\n",
            " |-- company_size_Vector: vector (nullable = true)\n",
            " |-- experience_level_Vector: vector (nullable = true)\n",
            " |-- features: vector (nullable = true)\n",
            "\n"
          ]
        }
      ]
    },
    {
      "cell_type": "code",
      "source": [
        "df.select(['features','remote_ratio']).show(10,False)"
      ],
      "metadata": {
        "colab": {
          "base_uri": "https://localhost:8080/"
        },
        "id": "YngYH0OGL_6o",
        "outputId": "9b24bda7-21cc-4834-8b64-eeccf26e500a"
      },
      "execution_count": null,
      "outputs": [
        {
          "output_type": "stream",
          "name": "stdout",
          "text": [
            "+-------------------+------------+\n",
            "|features           |remote_ratio|\n",
            "+-------------------+------------+\n",
            "|(5,[1,2],[1.0,1.0])|1           |\n",
            "|(5,[3],[1.0])      |1           |\n",
            "|(5,[3],[1.0])      |1           |\n",
            "|(5,[0,2],[1.0,1.0])|1           |\n",
            "|(5,[0,2],[1.0,1.0])|1           |\n",
            "|(5,[1,2],[1.0,1.0])|0           |\n",
            "|(5,[1,2],[1.0,1.0])|0           |\n",
            "|(5,[0,2],[1.0,1.0])|0           |\n",
            "|(5,[0,2],[1.0,1.0])|0           |\n",
            "|(5,[0,2],[1.0,1.0])|0           |\n",
            "+-------------------+------------+\n",
            "only showing top 10 rows\n",
            "\n"
          ]
        }
      ]
    },
    {
      "cell_type": "code",
      "source": [
        "model_df = df.select(['features','remote_ratio'])"
      ],
      "metadata": {
        "id": "xLGThnyZL_8d"
      },
      "execution_count": null,
      "outputs": []
    },
    {
      "cell_type": "code",
      "source": [
        "train_df, test_df = model_df.randomSplit([0.75,0.25])"
      ],
      "metadata": {
        "id": "UGY8teV5L_-V"
      },
      "execution_count": null,
      "outputs": []
    },
    {
      "cell_type": "code",
      "source": [
        "print(train_df.count())"
      ],
      "metadata": {
        "colab": {
          "base_uri": "https://localhost:8080/"
        },
        "id": "mA212qAnMABk",
        "outputId": "12a66f9c-3e78-4993-f86f-2af8e06bedb8"
      },
      "execution_count": null,
      "outputs": [
        {
          "output_type": "stream",
          "name": "stdout",
          "text": [
            "2693\n"
          ]
        }
      ]
    },
    {
      "cell_type": "code",
      "source": [
        "train_df.groupBy('remote_ratio').count().show()"
      ],
      "metadata": {
        "colab": {
          "base_uri": "https://localhost:8080/"
        },
        "id": "74pdQQsNMAEd",
        "outputId": "3f3160b6-64fb-41e7-d4d6-46b565c86b57"
      },
      "execution_count": null,
      "outputs": [
        {
          "output_type": "stream",
          "name": "stdout",
          "text": [
            "+------------+-----+\n",
            "|remote_ratio|count|\n",
            "+------------+-----+\n",
            "|           1| 1260|\n",
            "|           0| 1433|\n",
            "+------------+-----+\n",
            "\n"
          ]
        }
      ]
    },
    {
      "cell_type": "code",
      "source": [
        "print(test_df.count())"
      ],
      "metadata": {
        "colab": {
          "base_uri": "https://localhost:8080/"
        },
        "id": "fYJ0vi44MAIP",
        "outputId": "0fd22483-0059-4e60-87ba-013572c38092"
      },
      "execution_count": null,
      "outputs": [
        {
          "output_type": "stream",
          "name": "stdout",
          "text": [
            "873\n"
          ]
        }
      ]
    },
    {
      "cell_type": "code",
      "source": [
        "test_df.groupBy('remote_ratio').count().show()"
      ],
      "metadata": {
        "colab": {
          "base_uri": "https://localhost:8080/"
        },
        "id": "NtTkcEk9MAKA",
        "outputId": "79d75aec-4da1-446a-f238-93c446605046"
      },
      "execution_count": null,
      "outputs": [
        {
          "output_type": "stream",
          "name": "stdout",
          "text": [
            "+------------+-----+\n",
            "|remote_ratio|count|\n",
            "+------------+-----+\n",
            "|           1|  383|\n",
            "|           0|  490|\n",
            "+------------+-----+\n",
            "\n"
          ]
        }
      ]
    },
    {
      "cell_type": "code",
      "source": [
        "#Building and Training the Logistic Regression Model\n",
        "from pyspark.ml.classification import LogisticRegression"
      ],
      "metadata": {
        "id": "NJHQE6iyMAL2"
      },
      "execution_count": null,
      "outputs": []
    },
    {
      "cell_type": "code",
      "source": [
        "log_reg = LogisticRegression(labelCol='remote_ratio', maxIter=10)"
      ],
      "metadata": {
        "id": "Ri880TTJMANZ"
      },
      "execution_count": null,
      "outputs": []
    },
    {
      "cell_type": "code",
      "source": [
        "model = log_reg.fit(train_df)\n",
        "predict_train = model.transform(train_df)\n",
        "predict_test = model.transform(test_df)"
      ],
      "metadata": {
        "id": "regdnOXAMATr"
      },
      "execution_count": null,
      "outputs": []
    },
    {
      "cell_type": "code",
      "source": [
        "#predict the model\n",
        "from pyspark.ml.evaluation import BinaryClassificationEvaluator"
      ],
      "metadata": {
        "id": "NhaOpG8cMAWE"
      },
      "execution_count": null,
      "outputs": []
    },
    {
      "cell_type": "code",
      "source": [
        "evaluator = BinaryClassificationEvaluator(labelCol=\"remote_ratio\")"
      ],
      "metadata": {
        "id": "qzu2FvaH6sij"
      },
      "execution_count": null,
      "outputs": []
    },
    {
      "cell_type": "code",
      "source": [
        "predict_test.select('remote_ratio','prediction').show(20)"
      ],
      "metadata": {
        "colab": {
          "base_uri": "https://localhost:8080/"
        },
        "id": "ILiyjky265d0",
        "outputId": "28cb3dcb-086b-4bbb-ee55-d94dd482719e"
      },
      "execution_count": null,
      "outputs": [
        {
          "output_type": "stream",
          "name": "stdout",
          "text": [
            "+------------+----------+\n",
            "|remote_ratio|prediction|\n",
            "+------------+----------+\n",
            "|           1|       1.0|\n",
            "|           1|       1.0|\n",
            "|           0|       0.0|\n",
            "|           0|       0.0|\n",
            "|           0|       0.0|\n",
            "|           0|       0.0|\n",
            "|           0|       0.0|\n",
            "|           0|       0.0|\n",
            "|           0|       0.0|\n",
            "|           0|       0.0|\n",
            "|           0|       0.0|\n",
            "|           0|       0.0|\n",
            "|           1|       0.0|\n",
            "|           1|       0.0|\n",
            "|           1|       0.0|\n",
            "|           1|       0.0|\n",
            "|           0|       0.0|\n",
            "|           0|       0.0|\n",
            "|           0|       0.0|\n",
            "|           0|       0.0|\n",
            "+------------+----------+\n",
            "only showing top 20 rows\n",
            "\n"
          ]
        }
      ]
    },
    {
      "cell_type": "code",
      "source": [
        "#AUC - ROC curve is a performance measurement for the classification problems at various threshold settings.\n",
        "#ROC is a probability curve and AUC represents the degree or measure of separability.\n",
        "#It tells how much the model is capable of distinguishing between classes. Higher the AUC, the better the model is at predicting 0s as 0s and 1s as 1s."
      ],
      "metadata": {
        "id": "OrM3Ps1c-BP-"
      },
      "execution_count": null,
      "outputs": []
    },
    {
      "cell_type": "code",
      "source": [
        "print(\"The area under ROC for train set is {}\".format(evaluator.evaluate(predict_train)))\n",
        "print(\"The area under ROC for test set is {}\".format(evaluator.evaluate(predict_test)))\n",
        "# The area under ROC for train set is 0.6462954338199581\n",
        "# The area under ROC for test set is 0.6389298617116548"
      ],
      "metadata": {
        "id": "LLDjo9Ol_GMF",
        "colab": {
          "base_uri": "https://localhost:8080/"
        },
        "outputId": "bab85b59-1d77-4ef1-c241-7c0819d671d2"
      },
      "execution_count": null,
      "outputs": [
        {
          "output_type": "stream",
          "name": "stdout",
          "text": [
            "The area under ROC for train set is 0.5699091150765959\n",
            "The area under ROC for test set is 0.5568684392817179\n"
          ]
        }
      ]
    },
    {
      "cell_type": "code",
      "source": [
        "results = predict_test.select('remote_ratio', 'prediction')"
      ],
      "metadata": {
        "id": "brYng2lMqIDS"
      },
      "execution_count": null,
      "outputs": []
    },
    {
      "cell_type": "code",
      "source": [
        "# Confusion Matrix (manually create the variables for true positives, true negatives, false positives, and false negatives to understand them better rather than using the direct inbuilt function.)\n",
        "true_postives = results[(results.remote_ratio == 1) & (results.prediction== 1)].count()\n",
        "true_negatives = results[(results.remote_ratio == 0) & (results.prediction== 0)].count()\n",
        "false_positives = results[(results.remote_ratio == 0) & (results.prediction== 1)].count()\n",
        "false_negatives = results[(results.remote_ratio == 1) & (results.prediction== 0)].count()"
      ],
      "metadata": {
        "id": "X9OakCRBqIoQ"
      },
      "execution_count": null,
      "outputs": []
    },
    {
      "cell_type": "code",
      "source": [
        "# Accuracy is the sum of true positives and true negatives divided by the total number of records:\n",
        "# (TP+TN)Total number of records\n",
        "accuracy = float((true_postives+true_negatives) /(results.count()))\n",
        "print(accuracy)"
      ],
      "metadata": {
        "colab": {
          "base_uri": "https://localhost:8080/"
        },
        "id": "osporsXs1xKx",
        "outputId": "d816e3e2-14e7-45d9-bfe6-de0d62bc6c34"
      },
      "execution_count": null,
      "outputs": [
        {
          "output_type": "stream",
          "name": "stdout",
          "text": [
            "0.6036655211912944\n"
          ]
        }
      ]
    },
    {
      "cell_type": "code",
      "source": [
        "# Recall\n",
        "# Sensitivity / True Positive Rate / Recall\n",
        "# The Recall rate helps in evaluating the performance of the model from a positive class standpoint. It tells the percentage of actual positive cases that the model is able to predict correctly out of the total number of positive cases.\n",
        "# (TP)(TP+FN)\n",
        "# What proportion of the actual converted users were correctly classified by the model.\n",
        "recall = float(true_postives)/(true_postives + false_negatives)\n",
        "print(recall)"
      ],
      "metadata": {
        "colab": {
          "base_uri": "https://localhost:8080/"
        },
        "id": "QvC-xUjI1xND",
        "outputId": "7fe2b785-d23b-4b10-cddc-cdf23cdf4a2b"
      },
      "execution_count": null,
      "outputs": [
        {
          "output_type": "stream",
          "name": "stdout",
          "text": [
            "0.20887728459530025\n"
          ]
        }
      ]
    },
    {
      "cell_type": "code",
      "source": [
        "# Precision\n",
        "# Precision is about the number of actual positive cases out of all the positive cases predicted by the model:\n",
        "# (TP)(TP+FP)\n",
        "# What proportion of positive identifications was actually correct?\n",
        "precision = float((true_postives) / (true_postives + false_positives))\n",
        "print(precision)"
      ],
      "metadata": {
        "colab": {
          "base_uri": "https://localhost:8080/"
        },
        "id": "rSRvfQRJ1xPq",
        "outputId": "19a8e2b1-0ae4-4f32-c28e-268a572c7358"
      },
      "execution_count": null,
      "outputs": [
        {
          "output_type": "stream",
          "name": "stdout",
          "text": [
            "0.6504065040650406\n"
          ]
        }
      ]
    },
    {
      "cell_type": "code",
      "source": [
        "# F1 Score\n",
        "# F1 Score considers both precision and recall. It is the harmonic mean(average) of the precision and recall. F1 Score is best if there is some sort of balance between precision and recall. The F1 Score is not so high if one measure is improved at the expense of the other.\n",
        "# 2⋅Precision⋅RecallPrecision+Recall\n",
        "f1 = 2*(precision * recall) / (precision + recall)\n",
        "f1"
      ],
      "metadata": {
        "colab": {
          "base_uri": "https://localhost:8080/"
        },
        "id": "1gQxnlGB1xSY",
        "outputId": "6e11c9b6-1bdb-49b6-cc4e-d0af9660a119"
      },
      "execution_count": null,
      "outputs": [
        {
          "output_type": "execute_result",
          "data": {
            "text/plain": [
              "0.31620553359683795"
            ]
          },
          "metadata": {},
          "execution_count": 66
        }
      ]
    },
    {
      "cell_type": "code",
      "source": [
        "#Hyperparameter Tuning\n",
        "from pyspark.ml.tuning import ParamGridBuilder, CrossValidator"
      ],
      "metadata": {
        "id": "o8X2E58A1xUw"
      },
      "execution_count": null,
      "outputs": []
    },
    {
      "cell_type": "code",
      "source": [
        "print(log_reg.explainParams())"
      ],
      "metadata": {
        "colab": {
          "base_uri": "https://localhost:8080/"
        },
        "id": "8RbrYdFZ1xWy",
        "outputId": "df1d573e-3283-4d72-b8d4-af06f2c425be"
      },
      "execution_count": null,
      "outputs": [
        {
          "output_type": "stream",
          "name": "stdout",
          "text": [
            "aggregationDepth: suggested depth for treeAggregate (>= 2). (default: 2)\n",
            "elasticNetParam: the ElasticNet mixing parameter, in range [0, 1]. For alpha = 0, the penalty is an L2 penalty. For alpha = 1, it is an L1 penalty. (default: 0.0)\n",
            "family: The name of family which is a description of the label distribution to be used in the model. Supported options: auto, binomial, multinomial (default: auto)\n",
            "featuresCol: features column name. (default: features)\n",
            "fitIntercept: whether to fit an intercept term. (default: True)\n",
            "labelCol: label column name. (default: label, current: remote_ratio)\n",
            "lowerBoundsOnCoefficients: The lower bounds on coefficients if fitting under bound constrained optimization. The bound matrix must be compatible with the shape (1, number of features) for binomial regression, or (number of classes, number of features) for multinomial regression. (undefined)\n",
            "lowerBoundsOnIntercepts: The lower bounds on intercepts if fitting under bound constrained optimization. The bounds vector size must beequal with 1 for binomial regression, or the number oflasses for multinomial regression. (undefined)\n",
            "maxBlockSizeInMB: maximum memory in MB for stacking input data into blocks. Data is stacked within partitions. If more than remaining data size in a partition then it is adjusted to the data size. Default 0.0 represents choosing optimal value, depends on specific algorithm. Must be >= 0. (default: 0.0)\n",
            "maxIter: max number of iterations (>= 0). (default: 100, current: 10)\n",
            "predictionCol: prediction column name. (default: prediction)\n",
            "probabilityCol: Column name for predicted class conditional probabilities. Note: Not all models output well-calibrated probability estimates! These probabilities should be treated as confidences, not precise probabilities. (default: probability)\n",
            "rawPredictionCol: raw prediction (a.k.a. confidence) column name. (default: rawPrediction)\n",
            "regParam: regularization parameter (>= 0). (default: 0.0)\n",
            "standardization: whether to standardize the training features before fitting the model. (default: True)\n",
            "threshold: Threshold in binary classification prediction, in range [0, 1]. If threshold and thresholds are both set, they must match.e.g. if threshold is p, then thresholds must be equal to [1-p, p]. (default: 0.5)\n",
            "thresholds: Thresholds in multi-class classification to adjust the probability of predicting each class. Array must have length equal to the number of classes, with values > 0, excepting that at most one value may be 0. The class with largest value p/t is predicted, where p is the original probability of that class and t is the class's threshold. (undefined)\n",
            "tol: the convergence tolerance for iterative algorithms (>= 0). (default: 1e-06)\n",
            "upperBoundsOnCoefficients: The upper bounds on coefficients if fitting under bound constrained optimization. The bound matrix must be compatible with the shape (1, number of features) for binomial regression, or (number of classes, number of features) for multinomial regression. (undefined)\n",
            "upperBoundsOnIntercepts: The upper bounds on intercepts if fitting under bound constrained optimization. The bound vector size must be equal with 1 for binomial regression, or the number of classes for multinomial regression. (undefined)\n",
            "weightCol: weight column name. If this is not set or empty, we treat all instance weights as 1.0. (undefined)\n"
          ]
        }
      ]
    },
    {
      "cell_type": "code",
      "source": [
        "paramGrid = ParamGridBuilder()\\\n",
        "    .addGrid(log_reg.maxIter,[10, 100, 1000])\\\n",
        "    .addGrid(log_reg.fitIntercept,[False, True])\\\n",
        "    .addGrid(log_reg.elasticNetParam,[0.0, 0.5, 1.0]).addGrid(log_reg.regParam,[0.01, 0.5, 2.0]).build()\n",
        "\n",
        "# If a model is trained with the elastic net parameter α set to 1, it is equivalent to a Lasso model.\n",
        "# On the other hand, if α is set to 0, the trained model reduces to a ridge regression model.\n",
        "\n",
        "\n",
        "# fit_intercept=False sets the y-intercept to 0.\n",
        "# If fit_intercept=True, the y-intercept will be determined by the line of best fit."
      ],
      "metadata": {
        "id": "y6rygXYh1xYa"
      },
      "execution_count": null,
      "outputs": []
    },
    {
      "cell_type": "code",
      "source": [
        "# Create 5-fold CrossValidator\n",
        "cv = CrossValidator(estimator=log_reg, estimatorParamMaps=paramGrid, evaluator=evaluator, numFolds=5)\n",
        "# Run cross validations\n",
        "cvModel = cv.fit(train_df)\n",
        "# this will likely take a fair amount of time because of the amount of models that we're creating and testing\n",
        "predict_train=cvModel.transform(train_df)\n",
        "predict_test=cvModel.transform(test_df)\n",
        "print(\"The area under ROC for train set after CV  is {}\".format(evaluator.evaluate(predict_train)))\n",
        "print(\"The area under ROC for test set after CV  is {}\".format(evaluator.evaluate(predict_test)))"
      ],
      "metadata": {
        "colab": {
          "base_uri": "https://localhost:8080/"
        },
        "id": "2FCtEQP82oF9",
        "outputId": "e8bb98bb-9c0d-4c79-936c-49efa813479e"
      },
      "execution_count": null,
      "outputs": [
        {
          "output_type": "stream",
          "name": "stdout",
          "text": [
            "The area under ROC for train set after CV  is 0.5699091150765959\n",
            "The area under ROC for test set after CV  is 0.5568684392817179\n"
          ]
        }
      ]
    },
    {
      "cell_type": "code",
      "source": [
        "bestModel = cvModel.bestModel\n",
        "bestModel.getElasticNetParam()"
      ],
      "metadata": {
        "colab": {
          "base_uri": "https://localhost:8080/"
        },
        "id": "Z578nBkn2oIc",
        "outputId": "ddcf9766-a0d3-4a8c-a8b8-13c6c3258805"
      },
      "execution_count": null,
      "outputs": [
        {
          "output_type": "execute_result",
          "data": {
            "text/plain": [
              "0.0"
            ]
          },
          "metadata": {},
          "execution_count": 71
        }
      ]
    },
    {
      "cell_type": "code",
      "source": [
        "bestModel.getFitIntercept()"
      ],
      "metadata": {
        "colab": {
          "base_uri": "https://localhost:8080/"
        },
        "id": "d-NsOQ322oOg",
        "outputId": "25a600ea-2f15-415f-a666-5411b2bc8416"
      },
      "execution_count": null,
      "outputs": [
        {
          "output_type": "execute_result",
          "data": {
            "text/plain": [
              "True"
            ]
          },
          "metadata": {},
          "execution_count": 72
        }
      ]
    },
    {
      "cell_type": "code",
      "source": [
        "bestModel.getMaxIter()"
      ],
      "metadata": {
        "colab": {
          "base_uri": "https://localhost:8080/"
        },
        "id": "1wFQPpg42oRX",
        "outputId": "36040efb-7cf4-4c80-f215-372c579ff3b4"
      },
      "execution_count": null,
      "outputs": [
        {
          "output_type": "execute_result",
          "data": {
            "text/plain": [
              "10"
            ]
          },
          "metadata": {},
          "execution_count": 73
        }
      ]
    },
    {
      "cell_type": "code",
      "source": [
        "bestModel.getRegParam()"
      ],
      "metadata": {
        "colab": {
          "base_uri": "https://localhost:8080/"
        },
        "id": "2_dfJctg2oTr",
        "outputId": "cf90164f-a7de-4c3d-df85-b800dab0b3ca"
      },
      "execution_count": null,
      "outputs": [
        {
          "output_type": "execute_result",
          "data": {
            "text/plain": [
              "0.01"
            ]
          },
          "metadata": {},
          "execution_count": 74
        }
      ]
    },
    {
      "cell_type": "code",
      "source": [],
      "metadata": {
        "id": "rBOu0sWR24g8"
      },
      "execution_count": null,
      "outputs": []
    },
    {
      "cell_type": "code",
      "source": [
        "#finding root sqare error\n",
        "from pyspark.ml.regression import LinearRegression\n",
        "from pyspark.ml.evaluation import RegressionEvaluator"
      ],
      "metadata": {
        "id": "Fj2CmgPD_P6-"
      },
      "execution_count": null,
      "outputs": []
    },
    {
      "cell_type": "code",
      "source": [
        "# Train the linear regression model\n",
        "lr = LinearRegression(featuresCol=\"features\", labelCol=\"remote_ratio\")\n",
        "lr_model = lr.fit(train_df)"
      ],
      "metadata": {
        "id": "2Z6feiWE_oC2"
      },
      "execution_count": null,
      "outputs": []
    },
    {
      "cell_type": "code",
      "source": [
        "# Make predictions on the testing set\n",
        "predictions = lr_model.transform(test_df)"
      ],
      "metadata": {
        "id": "69UAh0d1CDL_"
      },
      "execution_count": null,
      "outputs": []
    },
    {
      "cell_type": "code",
      "source": [
        "# Evaluate the model using appropriate metric\n",
        "evaluator = RegressionEvaluator(labelCol=\"remote_ratio\", predictionCol=\"prediction\", metricName=\"rmse\")\n",
        "rmse = evaluator.evaluate(predictions)"
      ],
      "metadata": {
        "id": "cJg93MaMCHkk"
      },
      "execution_count": null,
      "outputs": []
    },
    {
      "cell_type": "code",
      "source": [
        "# Print the evaluation results\n",
        "print(\"Root Mean Squared Error (RMSE):\", rmse)"
      ],
      "metadata": {
        "colab": {
          "base_uri": "https://localhost:8080/"
        },
        "id": "8t_NSu33CUip",
        "outputId": "70795f40-4395-4f17-844b-109df2ae043d"
      },
      "execution_count": null,
      "outputs": [
        {
          "output_type": "stream",
          "name": "stdout",
          "text": [
            "Root Mean Squared Error (RMSE): 0.4903698374222527\n"
          ]
        }
      ]
    },
    {
      "cell_type": "code",
      "source": [],
      "metadata": {
        "id": "UxAmCF9WdFLe"
      },
      "execution_count": null,
      "outputs": []
    },
    {
      "cell_type": "code",
      "source": [],
      "metadata": {
        "id": "2uapH-Daemvb"
      },
      "execution_count": null,
      "outputs": []
    },
    {
      "cell_type": "code",
      "source": [],
      "metadata": {
        "id": "0les3as8pFdU"
      },
      "execution_count": null,
      "outputs": []
    },
    {
      "cell_type": "code",
      "source": [
        "\n"
      ],
      "metadata": {
        "id": "x6CvfBbAfOhE"
      },
      "execution_count": null,
      "outputs": []
    },
    {
      "cell_type": "code",
      "source": [],
      "metadata": {
        "id": "ihHR8fDAlfLX"
      },
      "execution_count": null,
      "outputs": []
    },
    {
      "cell_type": "code",
      "source": [],
      "metadata": {
        "id": "VkSmMQSUl0WQ"
      },
      "execution_count": null,
      "outputs": []
    },
    {
      "cell_type": "code",
      "source": [],
      "metadata": {
        "id": "S968a_13lb3U"
      },
      "execution_count": null,
      "outputs": []
    },
    {
      "cell_type": "code",
      "source": [],
      "metadata": {
        "id": "38KsJbQ8nRFG"
      },
      "execution_count": null,
      "outputs": []
    },
    {
      "cell_type": "code",
      "source": [],
      "metadata": {
        "id": "aP0gh8Imlb5e"
      },
      "execution_count": null,
      "outputs": []
    },
    {
      "cell_type": "code",
      "source": [],
      "metadata": {
        "id": "W7vouF27k5ug"
      },
      "execution_count": null,
      "outputs": []
    }
  ]
}